{
 "cells": [
  {
   "cell_type": "code",
   "execution_count": 1,
   "metadata": {},
   "outputs": [],
   "source": [
    "import numpy as np"
   ]
  },
  {
   "cell_type": "code",
   "execution_count": 2,
   "metadata": {},
   "outputs": [],
   "source": [
    "# write a function that reades all files end with .npy\n",
    "\n",
    "def read_all_files(path):\n",
    "    import os\n",
    "    files = os.listdir(path)\n",
    "    files = [f for f in files if f.endswith('.npy')]\n",
    "    print(files)\n",
    "    for f in files:\n",
    "        f = os.path\n",
    "        print(np.load(f))"
   ]
  },
  {
   "cell_type": "code",
   "execution_count": null,
   "metadata": {},
   "outputs": [],
   "source": []
  },
  {
   "cell_type": "code",
   "execution_count": 10,
   "metadata": {},
   "outputs": [
    {
     "name": "stdout",
     "output_type": "stream",
     "text": [
      "'/pscratch/sd/y/yanggao/SuperDiffusion/samples/samples_forecast_fourcastnet_1.npy'\n",
      "'/pscratch/sd/y/yanggao/SuperDiffusion/samples/samples_superres_HAT092550_18000.npy'\n",
      "'/pscratch/sd/y/yanggao/SuperDiffusion/samples/samples_superres_HAT092550_116000.npy'\n",
      "'/pscratch/sd/y/yanggao/SuperDiffusion/samples/fullsnapshot_superres_RE_idx500_16000_SR_ddim_3_unet_64_1.npy'\n",
      "'/pscratch/sd/y/yanggao/SuperDiffusion/samples/samples_superres_HAT092525_1.npy'\n",
      "'/pscratch/sd/y/yanggao/SuperDiffusion/samples/samples_superres_RE_8000_SR_ddim_2_unet_64_1.npy'\n",
      "'/pscratch/sd/y/yanggao/SuperDiffusion/samples/samples_superres_HAT092550_132000.npy'\n",
      "'/pscratch/sd/y/yanggao/SuperDiffusion/samples/samples_forecast_fourcastnet_601.npy'\n",
      "'/pscratch/sd/y/yanggao/SuperDiffusion/samples/samples_superres_HAT092550_1.npy'\n",
      "'/pscratch/sd/y/yanggao/SuperDiffusion/samples/samples_superres_HAT09251_1.npy'\n",
      "'/pscratch/sd/y/yanggao/SuperDiffusion/samples/samples_forecast_RE_0_SR_ddim_3_unet_64_1.npy'\n",
      "'/pscratch/sd/y/yanggao/SuperDiffusion/samples/fullsnapshot_superres_RE_16000_SR_ddim_3_unet_64_1.npy'\n",
      "'/pscratch/sd/y/yanggao/SuperDiffusion/samples/fullsnapshot_superres_RE_idx250_16000_SR_ddim_3_unet_64_1.npy'\n",
      "'/pscratch/sd/y/yanggao/SuperDiffusion/samples/fullsnapshot_superres_RE_idx110_16000_SR_ddim_3_unet_64_1.npy'\n"
     ]
    }
   ],
   "source": [
    "import os\n",
    "import numpy as np\n",
    "\n",
    "def read_all_files(path):\n",
    "    files = os.listdir(path)\n",
    "    files = [f for f in files if f.endswith('.npy')]\n",
    "    for f in files:\n",
    "        file_name = f\n",
    "        f = os.path.join(path, f)\n",
    "        print(repr(f))\n",
    "        try:\n",
    "            data = np.load(f, allow_pickle=True).item()\n",
    "            conditioning_snapshots = data['conditioning_snapshots']\n",
    "            targets = data['targets']\n",
    "            predictions = data['predictions']\n",
    "\n",
    "            # save as .npz file\n",
    "            f = f.replace('.npy', '.npz')\n",
    "            np.savez(f, conditioning_snapshots=conditioning_snapshots, targets=targets, predictions=predictions)\n",
    "            # print(data.shape)\n",
    "            # np.save(file_name, data)\n",
    "        except ValueError as e:\n",
    "            print(f\"Error loading {f}: {e}\")\n",
    "\n",
    "path = \"/pscratch/sd/y/yanggao/SuperDiffusion/samples\"\n",
    "read_all_files(path)"
   ]
  },
  {
   "cell_type": "code",
   "execution_count": 9,
   "metadata": {},
   "outputs": [
    {
     "name": "stdout",
     "output_type": "stream",
     "text": [
      "2.1.1\n",
      "Reading /pscratch/sd/y/yanggao/SuperDiffusion/samples/fullsnapshot_superres_RE_idx500_16000_SR_ddim_3_unet_64_1.npz\n",
      "conditioning_snapshots: (64, 1, 32, 32)\n",
      "targets: (64, 1, 256, 256)\n",
      "predictions: (64, 1, 256, 256)\n",
      "Reading /pscratch/sd/y/yanggao/SuperDiffusion/samples/fullsnapshot_superres_RE_idx110_16000_SR_ddim_3_unet_64_1.npz\n",
      "conditioning_snapshots: (64, 1, 32, 32)\n",
      "targets: (64, 1, 256, 256)\n",
      "predictions: (64, 1, 256, 256)\n"
     ]
    }
   ],
   "source": [
    "import numpy as np\n",
    "import os\n",
    "print(np.__version__)   \n",
    "\n",
    "def read_npz_file(file_path):\n",
    "    if file_path.endswith('.npz'):\n",
    "        \n",
    "        data = np.load(file_path)\n",
    "\n",
    "        conditioning_snapshots = data['conditioning_snapshots']\n",
    "        targets = data['targets']\n",
    "        predictions = data['predictions']\n",
    "\n",
    "        print(f\"conditioning_snapshots: {conditioning_snapshots.shape}\")\n",
    "        print(f\"targets: {targets.shape}\")\n",
    "        print(f\"predictions: {predictions.shape}\")\n",
    "\n",
    "        return conditioning_snapshots, targets, predictions\n",
    "    else:\n",
    "        print(f\"{file_path} is not an .npz file.\")\n",
    "        return None\n",
    "    \n",
    "path = \"/pscratch/sd/y/yanggao/SuperDiffusion/samples\"\n",
    "npzfiles = [f for f in os.listdir(path) if f.endswith('.npz')]\n",
    "npzfiles = ['/pscratch/sd/y/yanggao/SuperDiffusion/samples/fullsnapshot_superres_RE_idx500_16000_SR_ddim_3_unet_64_1.npz',\n",
    "            '/pscratch/sd/y/yanggao/SuperDiffusion/samples/fullsnapshot_superres_RE_idx110_16000_SR_ddim_3_unet_64_1.npz']\n",
    "for npzfile in npzfiles:\n",
    "    print(f\"Reading {npzfile}\")\n",
    "    conditioning_snapshots, targets, predictions = read_npz_file(npzfile)"
   ]
  },
  {
   "cell_type": "code",
   "execution_count": null,
   "metadata": {},
   "outputs": [],
   "source": []
  }
 ],
 "metadata": {
  "kernelspec": {
   "display_name": "venv",
   "language": "python",
   "name": "python3"
  },
  "language_info": {
   "codemirror_mode": {
    "name": "ipython",
    "version": 3
   },
   "file_extension": ".py",
   "mimetype": "text/x-python",
   "name": "python",
   "nbconvert_exporter": "python",
   "pygments_lexer": "ipython3",
   "version": "3.11.7"
  }
 },
 "nbformat": 4,
 "nbformat_minor": 2
}
